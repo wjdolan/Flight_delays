{
 "cells": [
  {
   "cell_type": "markdown",
   "metadata": {},
   "source": [
    "Extracts 200k data points from training data "
   ]
  },
  {
   "cell_type": "code",
   "execution_count": 1,
   "metadata": {},
   "outputs": [],
   "source": [
    "import re\n",
    "import pandas as pd\n",
    "import psycopg2"
   ]
  },
  {
   "cell_type": "code",
   "execution_count": 2,
   "metadata": {},
   "outputs": [],
   "source": [
    "my_vars = \"\"\"\n",
    "- Y **fl_date**: Flight Date (yyyy-mm-dd)\n",
    "- Y **mkt_unique_carrier**: Unique Marketing Carrier Code. When the same code has been used by multiple carriers, a numeric suffix is used for earlier users, for example, PA, PA(1), PA(2). Use this field for analysis across a range of years.\n",
    "- **branded_code_share**: Reporting Carrier Operated or Branded Code Share Partners\n",
    "- Y **mkt_carrier**: Code assigned by IATA and commonly used to identify a carrier. As the same code may have been assigned to different carriers over time, the code is not always unique. For analysis, use the Unique Carrier Code.\n",
    "- Y **mkt_carrier_fl_num**: Flight Number\n",
    "- Y **op_unique_carrier**: Unique Scheduled Operating Carrier Code. When the same code has been used by multiple carriers, a numeric suffix is used for earlier users,for example, PA, PA(1), PA(2). Use this field for analysis across a range of years.\n",
    "- Y **tail_num**: Tail Number\n",
    "- Y **op_carrier_fl_num**: Flight Number\n",
    "- Y **origin_airport_id**: Origin Airport, Airport ID. An identification number assigned by US DOT to identify a unique airport. Use this field for airport analysis across a range of years because an airport can change its airport code and airport codes can be reused.\n",
    "- Y **origin**: Origin Airport\n",
    "- Y **origin_city_name**: Origin Airport, City Name\n",
    "- Y **dest_airport_id**: Destination Airport, Airport ID. An identification number assigned by US DOT to identify a unique airport. Use this field for airport analysis across a range of years because an airport can change its airport code and airport codes can be reused.\n",
    "- Y **dest**: Destination Airport\n",
    "- Y **dest_city_name**: Destination Airport, City Name\n",
    "- Y **crs_dep_time**: CRS Departure Time (local time: hhmm)\n",
    "- **dep_time**: Actual Departure Time (local time: hhmm)\n",
    "- Y **dep_delay**: Difference in minutes between scheduled and actual departure time. Early departures show negative numbers.\t\n",
    "- **taxi_out**: Taxi Out Time, in Minutes\n",
    "- **wheels_off**: Wheels Off Time (local time: hhmm)\n",
    "- **wheels_on**: Wheels On Time (local time: hhmm)\n",
    "- **taxi_in**: \tTaxi In Time, in Minutes\n",
    "- Y **crs_arr_time**: CRS Arrival Time (local time: hhmm)\n",
    "- Y **arr_time**: Actual Arrival Time (local time: hhmm)\n",
    "- Y **arr_delay**: Difference in minutes between scheduled and actual arrival time. Early arrivals show negative numbers.\n",
    "- **cancelled**: Cancelled Flight Indicator (1=Yes)\n",
    "- **cancellation_code**: Specifies The Reason For Cancellation\n",
    "- **diverted**: Diverted Flight Indicator (1=Yes)\n",
    "- **dup**: Duplicate flag marked Y if the flight is swapped based on Form-3A data\n",
    "- Y **crs_elapsed_time**: CRS Elapsed Time of Flight, in Minutes\n",
    "- **actual_elapsed_time**: Elapsed Time of Flight, in Minutes\n",
    "- Y **air_time**: Flight Time, in Minutes\n",
    "- Y **flights**: Number of Flights\n",
    "- Y **distance**: Distance between airports (miles)\n",
    "- **carrier_delay**: Carrier Delay, in Minutes\n",
    "- **weather_delay**: Weather Delay, in Minutes\n",
    "- **nas_delay**: National Air System Delay, in Minutes\n",
    "- **security_delay**: Security Delay, in Minutes\n",
    "- **late_aircraft_delay**: Late Aircraft Delay, in Minutes\n",
    "- Y **first_dep_time**: First Gate Departure Time at Origin Airport\n",
    "- **total_add_gtime**: Total Ground Time Away from Gate for Gate Return or Cancelled Flight\n",
    "- **longest_add_gtime**: Longest Time Away from Gate for Gate Return or Cancelled Flight\n",
    "\"\"\""
   ]
  },
  {
   "cell_type": "code",
   "execution_count": 3,
   "metadata": {},
   "outputs": [],
   "source": [
    "import re\n",
    "feat_name = '- Y.+\\*'\n",
    "feat_list = re.findall(feat_name, my_vars)"
   ]
  },
  {
   "cell_type": "code",
   "execution_count": 4,
   "metadata": {},
   "outputs": [],
   "source": [
    "feat_list_clean=[]\n",
    "for feat in feat_list:\n",
    "    feat = re.sub(r\"[- Y **]\", \"\", feat)\n",
    "    feat_list_clean.append(feat)"
   ]
  },
  {
   "cell_type": "code",
   "execution_count": 5,
   "metadata": {},
   "outputs": [],
   "source": [
    "param_dic = {\n",
    "    'host': '<enter host here>',\n",
    "    'database': '<enter database>',\n",
    "    'user': '<user>',\n",
    "    'port': '<port>',\n",
    "    'password': '<password>'\n",
    "}"
   ]
  },
  {
   "cell_type": "code",
   "execution_count": 6,
   "metadata": {},
   "outputs": [],
   "source": [
    "def connect(param_dic):\n",
    "    \"\"\" Connect to the PostgreSQL database server \"\"\"\n",
    "    conn = None\n",
    "    try:\n",
    "        # connect to the PostgreSQL server\n",
    "        print('Connecting to the PostgreSQL database...')\n",
    "        conn = psycopg2.connect(**param_dic)\n",
    "    except (Exception, psycopg2.DatabaseError) as error:\n",
    "        print(error)\n",
    "        sys.exit(1) \n",
    "    print(\"Connection successful\")\n",
    "    return conn\n",
    "\n",
    "def postgres_to_df(conn, select_query, column_names):\n",
    "    \"\"\"\n",
    "    Transforms a SELECT query into a pandas dataframe\n",
    "    \"\"\"\n",
    "    cursor = con.cursor()\n",
    "    try:\n",
    "        cursor.execute(select_query)\n",
    "    except (Exception, psycopg2.DatabaseError) as error:\n",
    "        print(f\"Error: {error}\")\n",
    "        cursor.close()\n",
    "        return 1\n",
    "    \n",
    "    # list of tuples\n",
    "    res_tuples = cursor.fetchall()\n",
    "    cursor.close()\n",
    "\n",
    "    # return to dataframe\n",
    "    df = pd.DataFrame(res_tuples, columns=column_names)\n",
    "    return df"
   ]
  },
  {
   "cell_type": "code",
   "execution_count": 7,
   "metadata": {},
   "outputs": [
    {
     "name": "stdout",
     "output_type": "stream",
     "text": [
      "Connecting to the PostgreSQL database...\n",
      "Connection successful\n"
     ]
    }
   ],
   "source": [
    "con = connect(param_dic)"
   ]
  },
  {
   "cell_type": "code",
   "execution_count": 8,
   "metadata": {},
   "outputs": [],
   "source": [
    "query1 = \"\"\"SELECT fl_date, mkt_unique_carrier, mkt_carrier, \n",
    "mkt_carrier_fl_num, op_unique_carrier, tail_num, op_carrier_fl_num, \n",
    "origin_airport_id, origin, origin_city_name, dest_airport_id, \n",
    "dest, dest_city_name, crs_dep_time, dep_delay, crs_arr_time, \n",
    "arr_time, arr_delay, crs_elapsed_time, air_time, flights, distance, first_dep_time \n",
    "FROM flights\n",
    "WHERE fl_date LIKE '2019-01%'\n",
    "ORDER BY RANDOM()\n",
    "LIMIT 100000;\"\"\"\n",
    "\n",
    "query2 = \"\"\"SELECT fl_date, mkt_unique_carrier, mkt_carrier, \n",
    "mkt_carrier_fl_num, op_unique_carrier, tail_num, op_carrier_fl_num, \n",
    "origin_airport_id, origin, origin_city_name, dest_airport_id, \n",
    "dest, dest_city_name, crs_dep_time, dep_delay, crs_arr_time, \n",
    "arr_time, arr_delay, crs_elapsed_time, air_time, flights, distance, first_dep_time \n",
    "FROM flights\n",
    "WHERE fl_date LIKE '2018-01%'\n",
    "ORDER BY RANDOM()\n",
    "LIMIT 100000;\"\"\"\n",
    "\n",
    "col_names = ['fl_date', 'mkt_unique_carrier', 'mkt_carrier', \n",
    "'mkt_carrier_fl_num', 'op_unique_carrier', 'tail_num', 'op_carrier_fl_num', \n",
    "'origin_airport_id', 'origin', 'origin_city_name', 'dest_airport_id', \n",
    "'dest', 'dest_city_name', 'crs_dep_time', 'dep_delay', 'crs_arr_time', \n",
    "'arr_time', 'arr_delay', 'crs_elapsed_time', 'air_time', 'flights', 'distance', 'first_dep_time']"
   ]
  },
  {
   "cell_type": "code",
   "execution_count": 9,
   "metadata": {},
   "outputs": [],
   "source": [
    "df_201901 = postgres_to_df(con, query1, col_names)"
   ]
  },
  {
   "cell_type": "code",
   "execution_count": 10,
   "metadata": {},
   "outputs": [],
   "source": [
    "df_201801 = postgres_to_df(con, query2, col_names)"
   ]
  },
  {
   "cell_type": "code",
   "execution_count": 11,
   "metadata": {},
   "outputs": [],
   "source": [
    "df = pd.concat([df_201801,df_201901], axis=0)"
   ]
  },
  {
   "cell_type": "markdown",
   "metadata": {},
   "source": [
    "Processing Data"
   ]
  },
  {
   "cell_type": "code",
   "execution_count": 12,
   "metadata": {},
   "outputs": [],
   "source": [
    "# convert dates to datettime\n",
    "df['fl_date'] = pd.to_datetime(df['fl_date'])\n",
    "df['fl_day'] = df['fl_date'].dt.strftime(\"%A\")"
   ]
  },
  {
   "cell_type": "code",
   "execution_count": 13,
   "metadata": {},
   "outputs": [],
   "source": [
    "#split origin city and state\n",
    "df[['origin_city','origin_state']]=df['origin_city_name'].str.split(',', expand=True)\n",
    "df[['dest_city','dest_state']]=df['dest_city_name'].str.split(',', expand=True)"
   ]
  },
  {
   "cell_type": "code",
   "execution_count": 14,
   "metadata": {},
   "outputs": [],
   "source": [
    "# convert crs_times to datettime \n",
    "# pad front with 0\n",
    "df['crs_dep_hour'] = df['crs_dep_time'].astype(str).str.zfill(4)\n",
    "df['crs_arr_hour'] = df['crs_arr_time'].astype(str).str.zfill(4)\n",
    "# replace 2400 (not recognized by dataframe) to 0000 (midnight)\n",
    "df['crs_dep_hour'].replace('2400', '0000', inplace=True)\n",
    "df['crs_arr_hour'].replace('2400', '0000', inplace=True)\n",
    "# convert to datetimes and extract hour oly\n",
    "df['crs_dep_hour'] = pd.to_datetime(df['crs_dep_hour'], format=\"%H%M\").dt.round('H').dt.hour\n",
    "df['crs_arr_hour'] = pd.to_datetime(df['crs_arr_hour'], format=\"%H%M\").dt.round('H').dt.hour"
   ]
  },
  {
   "cell_type": "code",
   "execution_count": 15,
   "metadata": {},
   "outputs": [],
   "source": [
    "# convert hour to time of day categorical variables \n",
    "df['dep_tod'] = pd.cut(df['crs_dep_hour'],\n",
    "    bins=[0,6,12,18,24],\n",
    "    labels=['overnight','morning','afternoon','evening'],\n",
    "    right=False,\n",
    "    include_lowest=True)\n",
    "\n",
    "df['arr_tod'] = pd.cut(df['crs_arr_hour'],\n",
    "    bins=[0,6,12,18,24],\n",
    "    labels=['overnight','morning','afternoon','evening'],\n",
    "    right=False,\n",
    "    include_lowest=True)"
   ]
  },
  {
   "cell_type": "code",
   "execution_count": 16,
   "metadata": {},
   "outputs": [],
   "source": [
    "# getting week_num \n",
    "df['week_num'] = df['fl_date'].dt.isocalendar().week"
   ]
  },
  {
   "cell_type": "code",
   "execution_count": 17,
   "metadata": {},
   "outputs": [],
   "source": [
    "# extract only relevant features\n",
    "df = df[['mkt_unique_carrier','op_unique_carrier','origin',\n",
    "'origin_city','dest','dest_city',\n",
    "'crs_elapsed_time','crs_dep_hour','dep_tod',\n",
    "'crs_arr_hour','arr_tod','distance',\n",
    "'fl_date','fl_day','week_num','arr_delay']]"
   ]
  },
  {
   "cell_type": "code",
   "execution_count": 18,
   "metadata": {},
   "outputs": [],
   "source": [
    "# note that path may be different\n",
    "df_pass = pd.read_csv('data/processed/toJoin_passenger.csv', index_col=[0])"
   ]
  },
  {
   "cell_type": "code",
   "execution_count": 19,
   "metadata": {},
   "outputs": [],
   "source": [
    "df['identifier']= df['op_unique_carrier'] + \"-\" + df['origin'] + \"-\" + df['dest']"
   ]
  },
  {
   "cell_type": "code",
   "execution_count": 20,
   "metadata": {},
   "outputs": [],
   "source": [
    "df_fl_pass = pd.merge(df, df_pass, left_on='identifier', \n",
    "    right_on='identifier1', how='left').drop('identifier1', axis=1)"
   ]
  },
  {
   "cell_type": "code",
   "execution_count": 21,
   "metadata": {},
   "outputs": [],
   "source": [
    "# drop any missing values\n",
    "df_fl_pass = df_fl_pass.dropna()\n",
    "# drop redundant columns\n",
    "joined_cols_toDrop = ['distance_y', 'dest_y', 'origin_y', 'unique_carrier']\n",
    "df_fl_pass = df_fl_pass.drop(joined_cols_toDrop, axis=1)\n",
    "# rename original columns\n",
    "df_fl_pass = df_fl_pass.rename(columns={'origin_x':'origin','dest_x':'dest','distance_x':'distance'})"
   ]
  },
  {
   "cell_type": "code",
   "execution_count": 22,
   "metadata": {},
   "outputs": [],
   "source": [
    "# extract relevant columns \n",
    "df_fl_pass = df_fl_pass[['identifier','mkt_unique_carrier', 'op_unique_carrier',\n",
    "'origin','origin_city','dest',\n",
    "'dest_city','crs_elapsed_time', 'crs_dep_hour', \n",
    "'dep_tod','crs_arr_hour', 'arr_tod',\n",
    "'distance','fl_date', 'fl_day', 'week_num', \n",
    "'departures_performed', 'payload', 'passengers','freight', \n",
    "'air_time', 'distance_group','arr_delay']]"
   ]
  },
  {
   "cell_type": "markdown",
   "metadata": {},
   "source": [
    "Merge with Fuel"
   ]
  },
  {
   "cell_type": "code",
   "execution_count": 23,
   "metadata": {},
   "outputs": [],
   "source": [
    "df_fuel = pd.read_csv('data/processed/toJoin_fuel.csv', index_col=[0])"
   ]
  },
  {
   "cell_type": "code",
   "execution_count": 24,
   "metadata": {},
   "outputs": [],
   "source": [
    "df_fpf = pd.merge(df_fl_pass, df_fuel, left_on='op_unique_carrier',\n",
    "right_on='unique_carrier', how='left').drop('unique_carrier', axis=1)"
   ]
  },
  {
   "cell_type": "code",
   "execution_count": 25,
   "metadata": {},
   "outputs": [],
   "source": [
    "# drop missing fuel data\n",
    "df_fpf.dropna(inplace=True)"
   ]
  },
  {
   "cell_type": "markdown",
   "metadata": {},
   "source": [
    "Merge with Weather"
   ]
  },
  {
   "cell_type": "code",
   "execution_count": 26,
   "metadata": {},
   "outputs": [],
   "source": [
    "df_weather = pd.read_csv('data/processed/weather20182019_cleaned.csv', index_col=[0])"
   ]
  },
  {
   "cell_type": "code",
   "execution_count": 27,
   "metadata": {},
   "outputs": [],
   "source": [
    "df_fpf['weather_id']=df_fpf['fl_date'].astype(str) + \"-\" + df_fpf['origin']"
   ]
  },
  {
   "cell_type": "code",
   "execution_count": 40,
   "metadata": {},
   "outputs": [],
   "source": [
    "df_flw = pd.merge(df_fpf, df_weather, left_on='weather_id', right_on='date_orig_id', how='left')"
   ]
  },
  {
   "cell_type": "code",
   "execution_count": 41,
   "metadata": {},
   "outputs": [],
   "source": [
    "df_flw = df_flw.groupby(['origin_city','fl_date']).apply(lambda x: x.ffill().bfill())"
   ]
  },
  {
   "cell_type": "code",
   "execution_count": 42,
   "metadata": {},
   "outputs": [],
   "source": [
    "df_flw.dropna(inplace=True)"
   ]
  },
  {
   "cell_type": "code",
   "execution_count": 43,
   "metadata": {},
   "outputs": [],
   "source": [
    "df_flw=df_flw[['mkt_unique_carrier', 'origin','origin_city',\n",
    "    'dest', 'dest_city', 'crs_elapsed_time','crs_dep_hour',\n",
    "    'dep_tod', 'crs_arr_hour', 'arr_tod', 'distance', 'distance_group', \n",
    "    'fl_date', 'fl_day', 'week_num', 'departures_performed', 'payload', \n",
    "    'passengers', 'freight', 'sdomt_gallons', 'tdomt_gallons','sdomt_cost', \n",
    "    'tdomt_cost', 'AWND','PRCP', 'SNOW', 'SNWD', 'TAVG','arr_delay']]"
   ]
  },
  {
   "cell_type": "code",
   "execution_count": 44,
   "metadata": {},
   "outputs": [],
   "source": [
    "df_flw['arr_delay_pos'] = df_flw['arr_delay']"
   ]
  },
  {
   "cell_type": "code",
   "execution_count": 45,
   "metadata": {},
   "outputs": [
    {
     "data": {
      "text/html": [
       "<div>\n",
       "<style scoped>\n",
       "    .dataframe tbody tr th:only-of-type {\n",
       "        vertical-align: middle;\n",
       "    }\n",
       "\n",
       "    .dataframe tbody tr th {\n",
       "        vertical-align: top;\n",
       "    }\n",
       "\n",
       "    .dataframe thead th {\n",
       "        text-align: right;\n",
       "    }\n",
       "</style>\n",
       "<table border=\"1\" class=\"dataframe\">\n",
       "  <thead>\n",
       "    <tr style=\"text-align: right;\">\n",
       "      <th></th>\n",
       "      <th>mkt_unique_carrier</th>\n",
       "      <th>origin</th>\n",
       "      <th>origin_city</th>\n",
       "      <th>dest</th>\n",
       "      <th>dest_city</th>\n",
       "      <th>crs_elapsed_time</th>\n",
       "      <th>crs_dep_hour</th>\n",
       "      <th>dep_tod</th>\n",
       "      <th>crs_arr_hour</th>\n",
       "      <th>arr_tod</th>\n",
       "      <th>...</th>\n",
       "      <th>tdomt_gallons</th>\n",
       "      <th>sdomt_cost</th>\n",
       "      <th>tdomt_cost</th>\n",
       "      <th>AWND</th>\n",
       "      <th>PRCP</th>\n",
       "      <th>SNOW</th>\n",
       "      <th>SNWD</th>\n",
       "      <th>TAVG</th>\n",
       "      <th>arr_delay</th>\n",
       "      <th>arr_delay_pos</th>\n",
       "    </tr>\n",
       "  </thead>\n",
       "  <tbody>\n",
       "    <tr>\n",
       "      <th>0</th>\n",
       "      <td>UA</td>\n",
       "      <td>ORD</td>\n",
       "      <td>Chicago</td>\n",
       "      <td>MHT</td>\n",
       "      <td>Manchester</td>\n",
       "      <td>140.0</td>\n",
       "      <td>11</td>\n",
       "      <td>morning</td>\n",
       "      <td>14</td>\n",
       "      <td>afternoon</td>\n",
       "      <td>...</td>\n",
       "      <td>6214610.8</td>\n",
       "      <td>12885113.2</td>\n",
       "      <td>12885113.2</td>\n",
       "      <td>17.0</td>\n",
       "      <td>0.0</td>\n",
       "      <td>0.0</td>\n",
       "      <td>0.0</td>\n",
       "      <td>46.0</td>\n",
       "      <td>18.0</td>\n",
       "      <td>18.0</td>\n",
       "    </tr>\n",
       "    <tr>\n",
       "      <th>1</th>\n",
       "      <td>WN</td>\n",
       "      <td>AUS</td>\n",
       "      <td>Austin</td>\n",
       "      <td>DAL</td>\n",
       "      <td>Dallas</td>\n",
       "      <td>55.0</td>\n",
       "      <td>22</td>\n",
       "      <td>evening</td>\n",
       "      <td>23</td>\n",
       "      <td>evening</td>\n",
       "      <td>...</td>\n",
       "      <td>156532592.0</td>\n",
       "      <td>293397830.2</td>\n",
       "      <td>293803944.4</td>\n",
       "      <td>13.0</td>\n",
       "      <td>0.0</td>\n",
       "      <td>0.0</td>\n",
       "      <td>0.0</td>\n",
       "      <td>33.0</td>\n",
       "      <td>-11.0</td>\n",
       "      <td>-11.0</td>\n",
       "    </tr>\n",
       "    <tr>\n",
       "      <th>2</th>\n",
       "      <td>AA</td>\n",
       "      <td>DFW</td>\n",
       "      <td>Dallas/Fort Worth</td>\n",
       "      <td>IND</td>\n",
       "      <td>Indianapolis</td>\n",
       "      <td>120.0</td>\n",
       "      <td>15</td>\n",
       "      <td>afternoon</td>\n",
       "      <td>18</td>\n",
       "      <td>evening</td>\n",
       "      <td>...</td>\n",
       "      <td>163140817.6</td>\n",
       "      <td>264949334.8</td>\n",
       "      <td>265791415.6</td>\n",
       "      <td>15.0</td>\n",
       "      <td>0.0</td>\n",
       "      <td>0.0</td>\n",
       "      <td>0.0</td>\n",
       "      <td>38.0</td>\n",
       "      <td>7.0</td>\n",
       "      <td>7.0</td>\n",
       "    </tr>\n",
       "    <tr>\n",
       "      <th>4</th>\n",
       "      <td>AS</td>\n",
       "      <td>SEA</td>\n",
       "      <td>Seattle</td>\n",
       "      <td>PDX</td>\n",
       "      <td>Portland</td>\n",
       "      <td>45.0</td>\n",
       "      <td>15</td>\n",
       "      <td>afternoon</td>\n",
       "      <td>16</td>\n",
       "      <td>afternoon</td>\n",
       "      <td>...</td>\n",
       "      <td>0.0</td>\n",
       "      <td>0.0</td>\n",
       "      <td>0.0</td>\n",
       "      <td>38.0</td>\n",
       "      <td>15.0</td>\n",
       "      <td>0.0</td>\n",
       "      <td>0.0</td>\n",
       "      <td>83.0</td>\n",
       "      <td>-4.0</td>\n",
       "      <td>-4.0</td>\n",
       "    </tr>\n",
       "    <tr>\n",
       "      <th>5</th>\n",
       "      <td>DL</td>\n",
       "      <td>LGA</td>\n",
       "      <td>New York</td>\n",
       "      <td>STL</td>\n",
       "      <td>St. Louis</td>\n",
       "      <td>190.0</td>\n",
       "      <td>19</td>\n",
       "      <td>evening</td>\n",
       "      <td>21</td>\n",
       "      <td>evening</td>\n",
       "      <td>...</td>\n",
       "      <td>0.0</td>\n",
       "      <td>0.0</td>\n",
       "      <td>0.0</td>\n",
       "      <td>30.0</td>\n",
       "      <td>0.0</td>\n",
       "      <td>0.0</td>\n",
       "      <td>0.0</td>\n",
       "      <td>0.0</td>\n",
       "      <td>-25.0</td>\n",
       "      <td>-25.0</td>\n",
       "    </tr>\n",
       "  </tbody>\n",
       "</table>\n",
       "<p>5 rows × 30 columns</p>\n",
       "</div>"
      ],
      "text/plain": [
       "  mkt_unique_carrier origin        origin_city dest     dest_city  \\\n",
       "0                 UA    ORD            Chicago  MHT    Manchester   \n",
       "1                 WN    AUS             Austin  DAL        Dallas   \n",
       "2                 AA    DFW  Dallas/Fort Worth  IND  Indianapolis   \n",
       "4                 AS    SEA            Seattle  PDX      Portland   \n",
       "5                 DL    LGA           New York  STL     St. Louis   \n",
       "\n",
       "   crs_elapsed_time  crs_dep_hour    dep_tod  crs_arr_hour    arr_tod  ...  \\\n",
       "0             140.0            11    morning            14  afternoon  ...   \n",
       "1              55.0            22    evening            23    evening  ...   \n",
       "2             120.0            15  afternoon            18    evening  ...   \n",
       "4              45.0            15  afternoon            16  afternoon  ...   \n",
       "5             190.0            19    evening            21    evening  ...   \n",
       "\n",
       "   tdomt_gallons   sdomt_cost   tdomt_cost  AWND  PRCP  SNOW  SNWD  TAVG  \\\n",
       "0      6214610.8   12885113.2   12885113.2  17.0   0.0   0.0   0.0  46.0   \n",
       "1    156532592.0  293397830.2  293803944.4  13.0   0.0   0.0   0.0  33.0   \n",
       "2    163140817.6  264949334.8  265791415.6  15.0   0.0   0.0   0.0  38.0   \n",
       "4            0.0          0.0          0.0  38.0  15.0   0.0   0.0  83.0   \n",
       "5            0.0          0.0          0.0  30.0   0.0   0.0   0.0   0.0   \n",
       "\n",
       "   arr_delay  arr_delay_pos  \n",
       "0       18.0           18.0  \n",
       "1      -11.0          -11.0  \n",
       "2        7.0            7.0  \n",
       "4       -4.0           -4.0  \n",
       "5      -25.0          -25.0  \n",
       "\n",
       "[5 rows x 30 columns]"
      ]
     },
     "execution_count": 45,
     "metadata": {},
     "output_type": "execute_result"
    }
   ],
   "source": [
    "df_flw.head()"
   ]
  },
  {
   "cell_type": "code",
   "execution_count": 46,
   "metadata": {},
   "outputs": [],
   "source": [
    "df_flw.loc[df_flw['arr_delay_pos']<0, 'arr_delay_pos']=0"
   ]
  },
  {
   "cell_type": "code",
   "execution_count": 49,
   "metadata": {},
   "outputs": [],
   "source": [
    "df_flw['delay_binary']= df_flw['arr_delay_pos']"
   ]
  },
  {
   "cell_type": "code",
   "execution_count": 50,
   "metadata": {},
   "outputs": [],
   "source": [
    "df_flw.loc[df_flw['delay_binary']>0, 'delay_binary']=1"
   ]
  },
  {
   "cell_type": "code",
   "execution_count": 52,
   "metadata": {},
   "outputs": [],
   "source": [
    "df_flw.to_csv('train_flights_complete_raw200.csv')"
   ]
  },
  {
   "cell_type": "code",
   "execution_count": null,
   "metadata": {},
   "outputs": [],
   "source": []
  }
 ],
 "metadata": {
  "kernelspec": {
   "display_name": "lhl_env38",
   "language": "python",
   "name": "lhl_env38"
  },
  "language_info": {
   "codemirror_mode": {
    "name": "ipython",
    "version": 3
   },
   "file_extension": ".py",
   "mimetype": "text/x-python",
   "name": "python",
   "nbconvert_exporter": "python",
   "pygments_lexer": "ipython3",
   "version": "3.8.13"
  },
  "orig_nbformat": 4
 },
 "nbformat": 4,
 "nbformat_minor": 2
}
