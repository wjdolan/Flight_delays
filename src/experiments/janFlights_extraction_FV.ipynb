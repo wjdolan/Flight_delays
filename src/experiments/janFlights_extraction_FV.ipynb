{
 "cells": [
  {
   "cell_type": "code",
   "execution_count": 1,
   "metadata": {},
   "outputs": [],
   "source": [
    "my_vars = \"\"\"\n",
    "- Y **fl_date**: Flight Date (yyyy-mm-dd)\n",
    "- Y **mkt_unique_carrier**: Unique Marketing Carrier Code. When the same code has been used by multiple carriers, a numeric suffix is used for earlier users, for example, PA, PA(1), PA(2). Use this field for analysis across a range of years.\n",
    "- **branded_code_share**: Reporting Carrier Operated or Branded Code Share Partners\n",
    "- Y **mkt_carrier**: Code assigned by IATA and commonly used to identify a carrier. As the same code may have been assigned to different carriers over time, the code is not always unique. For analysis, use the Unique Carrier Code.\n",
    "- Y **mkt_carrier_fl_num**: Flight Number\n",
    "- Y **op_unique_carrier**: Unique Scheduled Operating Carrier Code. When the same code has been used by multiple carriers, a numeric suffix is used for earlier users,for example, PA, PA(1), PA(2). Use this field for analysis across a range of years.\n",
    "- Y **tail_num**: Tail Number\n",
    "- Y **op_carrier_fl_num**: Flight Number\n",
    "- Y **origin_airport_id**: Origin Airport, Airport ID. An identification number assigned by US DOT to identify a unique airport. Use this field for airport analysis across a range of years because an airport can change its airport code and airport codes can be reused.\n",
    "- Y **origin**: Origin Airport\n",
    "- Y **origin_city_name**: Origin Airport, City Name\n",
    "- Y **dest_airport_id**: Destination Airport, Airport ID. An identification number assigned by US DOT to identify a unique airport. Use this field for airport analysis across a range of years because an airport can change its airport code and airport codes can be reused.\n",
    "- Y **dest**: Destination Airport\n",
    "- Y **dest_city_name**: Destination Airport, City Name\n",
    "- Y **crs_dep_time**: CRS Departure Time (local time: hhmm)\n",
    "- **dep_time**: Actual Departure Time (local time: hhmm)\n",
    "- Y **dep_delay**: Difference in minutes between scheduled and actual departure time. Early departures show negative numbers.\t\n",
    "- **taxi_out**: Taxi Out Time, in Minutes\n",
    "- **wheels_off**: Wheels Off Time (local time: hhmm)\n",
    "- **wheels_on**: Wheels On Time (local time: hhmm)\n",
    "- **taxi_in**: \tTaxi In Time, in Minutes\n",
    "- Y **crs_arr_time**: CRS Arrival Time (local time: hhmm)\n",
    "- Y **arr_time**: Actual Arrival Time (local time: hhmm)\n",
    "- Y **arr_delay**: Difference in minutes between scheduled and actual arrival time. Early arrivals show negative numbers.\n",
    "- **cancelled**: Cancelled Flight Indicator (1=Yes)\n",
    "- **cancellation_code**: Specifies The Reason For Cancellation\n",
    "- **diverted**: Diverted Flight Indicator (1=Yes)\n",
    "- **dup**: Duplicate flag marked Y if the flight is swapped based on Form-3A data\n",
    "- Y **crs_elapsed_time**: CRS Elapsed Time of Flight, in Minutes\n",
    "- **actual_elapsed_time**: Elapsed Time of Flight, in Minutes\n",
    "- Y **air_time**: Flight Time, in Minutes\n",
    "- Y **flights**: Number of Flights\n",
    "- Y **distance**: Distance between airports (miles)\n",
    "- **carrier_delay**: Carrier Delay, in Minutes\n",
    "- **weather_delay**: Weather Delay, in Minutes\n",
    "- **nas_delay**: National Air System Delay, in Minutes\n",
    "- **security_delay**: Security Delay, in Minutes\n",
    "- **late_aircraft_delay**: Late Aircraft Delay, in Minutes\n",
    "- Y **first_dep_time**: First Gate Departure Time at Origin Airport\n",
    "- **total_add_gtime**: Total Ground Time Away from Gate for Gate Return or Cancelled Flight\n",
    "- **longest_add_gtime**: Longest Time Away from Gate for Gate Return or Cancelled Flight\n",
    "\"\"\""
   ]
  },
  {
   "cell_type": "code",
   "execution_count": 2,
   "metadata": {},
   "outputs": [],
   "source": [
    "import re\n",
    "feat_name = '- Y.+\\*'\n",
    "feat_list = re.findall(feat_name, my_vars)"
   ]
  },
  {
   "cell_type": "code",
   "execution_count": 3,
   "metadata": {},
   "outputs": [],
   "source": [
    "feat_list_clean=[]\n",
    "for feat in feat_list:\n",
    "    feat = re.sub(r\"[- Y **]\", \"\", feat)\n",
    "    feat_list_clean.append(feat)"
   ]
  },
  {
   "cell_type": "code",
   "execution_count": 4,
   "metadata": {},
   "outputs": [
    {
     "name": "stdout",
     "output_type": "stream",
     "text": [
      "['fl_date', 'mkt_unique_carrier', 'mkt_carrier', 'mkt_carrier_fl_num', 'op_unique_carrier', 'tail_num', 'op_carrier_fl_num', 'origin_airport_id', 'origin', 'origin_city_name', 'dest_airport_id', 'dest', 'dest_city_name', 'crs_dep_time', 'dep_delay', 'crs_arr_time', 'arr_time', 'arr_delay', 'crs_elapsed_time', 'air_time', 'flights', 'distance', 'first_dep_time']\n"
     ]
    }
   ],
   "source": [
    "print(feat_list_clean)"
   ]
  },
  {
   "cell_type": "markdown",
   "metadata": {},
   "source": [
    "#### Extracting From PostGres"
   ]
  },
  {
   "cell_type": "code",
   "execution_count": 5,
   "metadata": {},
   "outputs": [],
   "source": [
    "import pandas as pd\n",
    "import psycopg2"
   ]
  },
  {
   "cell_type": "code",
   "execution_count": 6,
   "metadata": {},
   "outputs": [],
   "source": [
    "param_dic = {\n",
    "    'host': 'lhl-data-bootcamp.crzjul5qln0e.ca-central-1.rds.amazonaws.com',\n",
    "    'database': 'mid_term_project',\n",
    "    'user': 'lhl_student',\n",
    "    'port': '5432',\n",
    "    'password': 'lhl_student'\n",
    "}"
   ]
  },
  {
   "cell_type": "code",
   "execution_count": 7,
   "metadata": {},
   "outputs": [],
   "source": [
    "def connect(param_dic):\n",
    "    \"\"\" Connect to the PostgreSQL database server \"\"\"\n",
    "    conn = None\n",
    "    try:\n",
    "        # connect to the PostgreSQL server\n",
    "        print('Connecting to the PostgreSQL database...')\n",
    "        conn = psycopg2.connect(**param_dic)\n",
    "    except (Exception, psycopg2.DatabaseError) as error:\n",
    "        print(error)\n",
    "        sys.exit(1) \n",
    "    print(\"Connection successful\")\n",
    "    return conn"
   ]
  },
  {
   "cell_type": "code",
   "execution_count": 8,
   "metadata": {},
   "outputs": [
    {
     "name": "stdout",
     "output_type": "stream",
     "text": [
      "Connecting to the PostgreSQL database...\n",
      "Connection successful\n"
     ]
    }
   ],
   "source": [
    "con = connect(param_dic)"
   ]
  },
  {
   "cell_type": "code",
   "execution_count": 9,
   "metadata": {},
   "outputs": [],
   "source": [
    "def postgres_to_df(conn, select_query, column_names):\n",
    "    \"\"\"\n",
    "    Transforms a SELECT query into a pandas dataframe\n",
    "    \"\"\"\n",
    "    cursor = con.cursor()\n",
    "    try:\n",
    "        cursor.execute(select_query)\n",
    "    except (Exception, psycopg2.DatabaseError) as error:\n",
    "        print(f\"Error: {error}\")\n",
    "        cursor.close()\n",
    "        return 1\n",
    "    \n",
    "    # list of tuples\n",
    "    res_tuples = cursor.fetchall()\n",
    "    cursor.close()\n",
    "\n",
    "    # return to dataframe\n",
    "    df = pd.DataFrame(res_tuples, columns=column_names)\n",
    "    return df"
   ]
  },
  {
   "cell_type": "code",
   "execution_count": 10,
   "metadata": {},
   "outputs": [],
   "source": [
    "query1 = \"\"\"SELECT fl_date, mkt_unique_carrier, mkt_carrier, \n",
    "mkt_carrier_fl_num, op_unique_carrier, tail_num, op_carrier_fl_num, \n",
    "origin_airport_id, origin, origin_city_name, dest_airport_id, \n",
    "dest, dest_city_name, crs_dep_time, dep_delay, crs_arr_time, \n",
    "arr_time, arr_delay, crs_elapsed_time, air_time, flights, distance, first_dep_time \n",
    "FROM flights\n",
    "WHERE fl_date LIKE '2019-01%'\n",
    "ORDER BY RANDOM()\n",
    "LIMIT 25000;\"\"\"\n",
    "\n",
    "query2 = \"\"\"SELECT fl_date, mkt_unique_carrier, mkt_carrier, \n",
    "mkt_carrier_fl_num, op_unique_carrier, tail_num, op_carrier_fl_num, \n",
    "origin_airport_id, origin, origin_city_name, dest_airport_id, \n",
    "dest, dest_city_name, crs_dep_time, dep_delay, crs_arr_time, \n",
    "arr_time, arr_delay, crs_elapsed_time, air_time, flights, distance, first_dep_time \n",
    "FROM flights\n",
    "WHERE fl_date LIKE '2018-01%'\n",
    "ORDER BY RANDOM()\n",
    "LIMIT 25000;\"\"\"\n",
    "\n",
    "col_names = ['fl_date', 'mkt_unique_carrier', 'mkt_carrier', \n",
    "'mkt_carrier_fl_num', 'op_unique_carrier', 'tail_num', 'op_carrier_fl_num', \n",
    "'origin_airport_id', 'origin', 'origin_city_name', 'dest_airport_id', \n",
    "'dest', 'dest_city_name', 'crs_dep_time', 'dep_delay', 'crs_arr_time', \n",
    "'arr_time', 'arr_delay', 'crs_elapsed_time', 'air_time', 'flights', 'distance', 'first_dep_time']"
   ]
  },
  {
   "cell_type": "code",
   "execution_count": 11,
   "metadata": {},
   "outputs": [],
   "source": [
    "df_201901 = postgres_to_df(con, query1, col_names)"
   ]
  },
  {
   "cell_type": "code",
   "execution_count": 12,
   "metadata": {},
   "outputs": [],
   "source": [
    "df_201801 = postgres_to_df(con, query2, col_names)"
   ]
  },
  {
   "cell_type": "code",
   "execution_count": 13,
   "metadata": {},
   "outputs": [],
   "source": [
    "df_Jan_flights = pd.concat([df_201901, df_201801])"
   ]
  },
  {
   "cell_type": "code",
   "execution_count": 14,
   "metadata": {},
   "outputs": [
    {
     "data": {
      "text/plain": [
       "(50000, 23)"
      ]
     },
     "execution_count": 14,
     "metadata": {},
     "output_type": "execute_result"
    }
   ],
   "source": [
    "df_Jan_flights.shape"
   ]
  },
  {
   "cell_type": "code",
   "execution_count": 16,
   "metadata": {},
   "outputs": [],
   "source": [
    "df_Jan_flights.to_csv('df_jan_flights.csv')"
   ]
  },
  {
   "cell_type": "code",
   "execution_count": null,
   "metadata": {},
   "outputs": [],
   "source": []
  }
 ],
 "metadata": {
  "kernelspec": {
   "display_name": "lhl_env38",
   "language": "python",
   "name": "lhl_env38"
  },
  "language_info": {
   "codemirror_mode": {
    "name": "ipython",
    "version": 3
   },
   "file_extension": ".py",
   "mimetype": "text/x-python",
   "name": "python",
   "nbconvert_exporter": "python",
   "pygments_lexer": "ipython3",
   "version": "3.8.13"
  },
  "orig_nbformat": 4
 },
 "nbformat": 4,
 "nbformat_minor": 2
}
